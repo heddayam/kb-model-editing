{
 "cells": [
  {
   "cell_type": "code",
   "execution_count": 1,
   "id": "8f7cd7c9",
   "metadata": {},
   "outputs": [],
   "source": [
    "import re\n",
    "import jsonlines\n",
    "import pandas as pd\n",
    "\n",
    "from string import punctuation \n",
    "from numpy.random import default_rng"
   ]
  },
  {
   "cell_type": "code",
   "execution_count": 6,
   "id": "2db134f1",
   "metadata": {},
   "outputs": [],
   "source": [
    "line_count = 0\n",
    "with jsonlines.open(\"../data/kelm_generated_corpus.jsonl\", 'r') as ifile, jsonlines.open(\"../data/kelm_triples_only_corpus.jsonl\", 'w') as ofile:\n",
    "    for dict_line in ifile:\n",
    "        if 'triples'  in dict_line:\n",
    "            if len(dict_line['triples']) != 1:\n",
    "                continue\n",
    "            \n",
    "            ofile.write(dict_line)\n",
    "            line_count += 1\n"
   ]
  },
  {
   "cell_type": "code",
   "execution_count": 6,
   "id": "ac62ebc2",
   "metadata": {},
   "outputs": [],
   "source": [
    "def format_sentences(dict_line):\n",
    "    '''Converting a given json object to ROME format '''\n",
    "    \n",
    "    gen_sent = dict_line['gen_sentence']\n",
    "    gen_sent = gen_sent.replace('+', '') # remove '+' symbol before numbers\n",
    "    gen_sent = gen_sent.replace('(', '') # remove '+' symbol before numbers\n",
    "    gen_sent = gen_sent.replace(')', '') # remove '+' symbol before numbers\n",
    "\n",
    "    # Get triple object \n",
    "    triple_elements = dict_line['triples'][0]\n",
    "    triple_object = triple_elements[-1].strip(punctuation)\n",
    "    triple_object = triple_object.replace('(', '')\n",
    "    triple_object = triple_object.replace(')', '')\n",
    "    \n",
    "    triple_subject = triple_elements[0]\n",
    "    triple_subject = triple_subject.translate(str.maketrans('', '', punctuation))\n",
    "    pattern = None\n",
    "\n",
    "    # Match object component in sentence and extract substring till EOS in the orig sentence\n",
    "    for object_part in triple_object.split():\n",
    "        if object_part.lower() in gen_sent.strip(punctuation).lower().split():\n",
    "            pattern = object_part + '.*'\n",
    "            break\n",
    "\n",
    "    if pattern == None:\n",
    "        return None\n",
    "\n",
    "    p = re.compile('(' + pattern + ')')\n",
    "    object_matched_str = p.search(gen_sent, re.IGNORECASE)\n",
    "\n",
    "\n",
    "    if object_matched_str is None:\n",
    "        return None\n",
    "\n",
    "    obj_completion = object_matched_str.group(0)\n",
    "\n",
    "    # Match subject component \n",
    "    pattern = triple_subject.lower()\n",
    "    p = re.compile('(' + pattern + ')')\n",
    "    subject_matched_str = p.search(gen_sent, re.IGNORECASE)\n",
    "    \n",
    "    if subject_matched_str is None:\n",
    "        return None\n",
    "    \n",
    "    sub_completion = subject_matched_str.group(0)\n",
    "    masked_sent = gen_sent.replace(obj_completion, \"\")\n",
    "    \n",
    "    # Remove instances where subject appears multiple times\n",
    "    if masked_sent.count(sub_completion) > 1 :\n",
    "        return None\n",
    "    \n",
    "    masked_sent = masked_sent.replace(sub_completion, \"{}\")\n",
    "    \n",
    "    if len(masked_sent.split()) < len(obj_completion.split()):\n",
    "        return None\n",
    "        \n",
    "    # Construct tuple to be insert into df\n",
    "    out_tuple = {\n",
    "        'prompt': masked_sent, \n",
    "        'subject': triple_subject, \n",
    "        'target_new': {\n",
    "            \"str\": obj_completion\n",
    "        }, \n",
    "        'triple': triple_elements\n",
    "    }\n",
    "\n",
    "    return out_tuple"
   ]
  },
  {
   "cell_type": "code",
   "execution_count": 7,
   "id": "cb436dee",
   "metadata": {},
   "outputs": [
    {
     "ename": "KeyboardInterrupt",
     "evalue": "",
     "output_type": "error",
     "traceback": [
      "\u001b[0;31m---------------------------------------------------------------------------\u001b[0m",
      "\u001b[0;31mKeyboardInterrupt\u001b[0m                         Traceback (most recent call last)",
      "\u001b[0;32m<ipython-input-7-13f58b038c90>\u001b[0m in \u001b[0;36m<module>\u001b[0;34m\u001b[0m\n\u001b[1;32m     15\u001b[0m                     \u001b[0mofile\u001b[0m\u001b[0;34m.\u001b[0m\u001b[0mwrite\u001b[0m\u001b[0;34m(\u001b[0m\u001b[0mprocessed_line\u001b[0m\u001b[0;34m)\u001b[0m\u001b[0;34m\u001b[0m\u001b[0;34m\u001b[0m\u001b[0m\n\u001b[1;32m     16\u001b[0m \u001b[0;34m\u001b[0m\u001b[0m\n\u001b[0;32m---> 17\u001b[0;31m \u001b[0mprocess_random_triples\u001b[0m\u001b[0;34m(\u001b[0m\u001b[0mrand_frac\u001b[0m\u001b[0;34m)\u001b[0m\u001b[0;34m\u001b[0m\u001b[0;34m\u001b[0m\u001b[0m\n\u001b[0m",
      "\u001b[0;32m<ipython-input-7-13f58b038c90>\u001b[0m in \u001b[0;36mprocess_random_triples\u001b[0;34m(rand_frac)\u001b[0m\n\u001b[1;32m     11\u001b[0m         \u001b[0;32mfor\u001b[0m \u001b[0mdict_line\u001b[0m \u001b[0;32min\u001b[0m \u001b[0mifile\u001b[0m\u001b[0;34m:\u001b[0m\u001b[0;34m\u001b[0m\u001b[0;34m\u001b[0m\u001b[0m\n\u001b[1;32m     12\u001b[0m             \u001b[0;32mif\u001b[0m \u001b[0mrng\u001b[0m\u001b[0;34m.\u001b[0m\u001b[0mintegers\u001b[0m\u001b[0;34m(\u001b[0m\u001b[0mline_count\u001b[0m\u001b[0;34m)\u001b[0m \u001b[0;34m<\u001b[0m \u001b[0mrand_count\u001b[0m\u001b[0;34m:\u001b[0m\u001b[0;34m\u001b[0m\u001b[0;34m\u001b[0m\u001b[0m\n\u001b[0;32m---> 13\u001b[0;31m                 \u001b[0mprocessed_line\u001b[0m \u001b[0;34m=\u001b[0m \u001b[0mformat_sentences\u001b[0m\u001b[0;34m(\u001b[0m\u001b[0mdict_line\u001b[0m\u001b[0;34m)\u001b[0m\u001b[0;34m\u001b[0m\u001b[0;34m\u001b[0m\u001b[0m\n\u001b[0m\u001b[1;32m     14\u001b[0m                 \u001b[0;32mif\u001b[0m \u001b[0mprocessed_line\u001b[0m \u001b[0;32mis\u001b[0m \u001b[0;32mnot\u001b[0m \u001b[0;32mNone\u001b[0m\u001b[0;34m:\u001b[0m\u001b[0;34m\u001b[0m\u001b[0;34m\u001b[0m\u001b[0m\n\u001b[1;32m     15\u001b[0m                     \u001b[0mofile\u001b[0m\u001b[0;34m.\u001b[0m\u001b[0mwrite\u001b[0m\u001b[0;34m(\u001b[0m\u001b[0mprocessed_line\u001b[0m\u001b[0;34m)\u001b[0m\u001b[0;34m\u001b[0m\u001b[0;34m\u001b[0m\u001b[0m\n",
      "\u001b[0;32m<ipython-input-6-a6512147e1f1>\u001b[0m in \u001b[0;36mformat_sentences\u001b[0;34m(dict_line)\u001b[0m\n\u001b[1;32m     26\u001b[0m         \u001b[0;32mreturn\u001b[0m \u001b[0;32mNone\u001b[0m\u001b[0;34m\u001b[0m\u001b[0;34m\u001b[0m\u001b[0m\n\u001b[1;32m     27\u001b[0m \u001b[0;34m\u001b[0m\u001b[0m\n\u001b[0;32m---> 28\u001b[0;31m     \u001b[0mp\u001b[0m \u001b[0;34m=\u001b[0m \u001b[0mre\u001b[0m\u001b[0;34m.\u001b[0m\u001b[0mcompile\u001b[0m\u001b[0;34m(\u001b[0m\u001b[0;34m'('\u001b[0m \u001b[0;34m+\u001b[0m \u001b[0mpattern\u001b[0m \u001b[0;34m+\u001b[0m \u001b[0;34m')'\u001b[0m\u001b[0;34m)\u001b[0m\u001b[0;34m\u001b[0m\u001b[0;34m\u001b[0m\u001b[0m\n\u001b[0m\u001b[1;32m     29\u001b[0m     \u001b[0mobject_matched_str\u001b[0m \u001b[0;34m=\u001b[0m \u001b[0mp\u001b[0m\u001b[0;34m.\u001b[0m\u001b[0msearch\u001b[0m\u001b[0;34m(\u001b[0m\u001b[0mgen_sent\u001b[0m\u001b[0;34m,\u001b[0m \u001b[0mre\u001b[0m\u001b[0;34m.\u001b[0m\u001b[0mIGNORECASE\u001b[0m\u001b[0;34m)\u001b[0m\u001b[0;34m\u001b[0m\u001b[0;34m\u001b[0m\u001b[0m\n\u001b[1;32m     30\u001b[0m \u001b[0;34m\u001b[0m\u001b[0m\n",
      "\u001b[0;32m~/opt/anaconda3/lib/python3.8/re.py\u001b[0m in \u001b[0;36mcompile\u001b[0;34m(pattern, flags)\u001b[0m\n\u001b[1;32m    250\u001b[0m \u001b[0;32mdef\u001b[0m \u001b[0mcompile\u001b[0m\u001b[0;34m(\u001b[0m\u001b[0mpattern\u001b[0m\u001b[0;34m,\u001b[0m \u001b[0mflags\u001b[0m\u001b[0;34m=\u001b[0m\u001b[0;36m0\u001b[0m\u001b[0;34m)\u001b[0m\u001b[0;34m:\u001b[0m\u001b[0;34m\u001b[0m\u001b[0;34m\u001b[0m\u001b[0m\n\u001b[1;32m    251\u001b[0m     \u001b[0;34m\"Compile a regular expression pattern, returning a Pattern object.\"\u001b[0m\u001b[0;34m\u001b[0m\u001b[0;34m\u001b[0m\u001b[0m\n\u001b[0;32m--> 252\u001b[0;31m     \u001b[0;32mreturn\u001b[0m \u001b[0m_compile\u001b[0m\u001b[0;34m(\u001b[0m\u001b[0mpattern\u001b[0m\u001b[0;34m,\u001b[0m \u001b[0mflags\u001b[0m\u001b[0;34m)\u001b[0m\u001b[0;34m\u001b[0m\u001b[0;34m\u001b[0m\u001b[0m\n\u001b[0m\u001b[1;32m    253\u001b[0m \u001b[0;34m\u001b[0m\u001b[0m\n\u001b[1;32m    254\u001b[0m \u001b[0;32mdef\u001b[0m \u001b[0mpurge\u001b[0m\u001b[0;34m(\u001b[0m\u001b[0;34m)\u001b[0m\u001b[0;34m:\u001b[0m\u001b[0;34m\u001b[0m\u001b[0;34m\u001b[0m\u001b[0m\n",
      "\u001b[0;32m~/opt/anaconda3/lib/python3.8/re.py\u001b[0m in \u001b[0;36m_compile\u001b[0;34m(pattern, flags)\u001b[0m\n\u001b[1;32m    307\u001b[0m             \u001b[0;31m# Drop the oldest item\u001b[0m\u001b[0;34m\u001b[0m\u001b[0;34m\u001b[0m\u001b[0;34m\u001b[0m\u001b[0m\n\u001b[1;32m    308\u001b[0m             \u001b[0;32mtry\u001b[0m\u001b[0;34m:\u001b[0m\u001b[0;34m\u001b[0m\u001b[0;34m\u001b[0m\u001b[0m\n\u001b[0;32m--> 309\u001b[0;31m                 \u001b[0;32mdel\u001b[0m \u001b[0m_cache\u001b[0m\u001b[0;34m[\u001b[0m\u001b[0mnext\u001b[0m\u001b[0;34m(\u001b[0m\u001b[0miter\u001b[0m\u001b[0;34m(\u001b[0m\u001b[0m_cache\u001b[0m\u001b[0;34m)\u001b[0m\u001b[0;34m)\u001b[0m\u001b[0;34m]\u001b[0m\u001b[0;34m\u001b[0m\u001b[0;34m\u001b[0m\u001b[0m\n\u001b[0m\u001b[1;32m    310\u001b[0m             \u001b[0;32mexcept\u001b[0m \u001b[0;34m(\u001b[0m\u001b[0mStopIteration\u001b[0m\u001b[0;34m,\u001b[0m \u001b[0mRuntimeError\u001b[0m\u001b[0;34m,\u001b[0m \u001b[0mKeyError\u001b[0m\u001b[0;34m)\u001b[0m\u001b[0;34m:\u001b[0m\u001b[0;34m\u001b[0m\u001b[0;34m\u001b[0m\u001b[0m\n\u001b[1;32m    311\u001b[0m                 \u001b[0;32mpass\u001b[0m\u001b[0;34m\u001b[0m\u001b[0;34m\u001b[0m\u001b[0m\n",
      "\u001b[0;31mKeyboardInterrupt\u001b[0m: "
     ]
    }
   ],
   "source": [
    "rng = default_rng(42)\n",
    "rand_frac = 0.3\n",
    "\n",
    "\n",
    "def process_random_triples(rand_frac):\n",
    "    '''Processing random subset of the original dataset'''\n",
    "\n",
    "    rand_count = rand_frac * line_count\n",
    "\n",
    "    with jsonlines.open(\"../data/kelm_triples_only_corpus.jsonl\", 'r') as ifile, jsonlines.open(\"../data/formatted/kelm_random_triples_processed.jsonl\", 'w') as ofile:\n",
    "        for dict_line in ifile:\n",
    "            if rng.integers(line_count) < rand_count:\n",
    "                processed_line = format_sentences(dict_line)\n",
    "                if processed_line is not None:\n",
    "                    ofile.write(processed_line)\n",
    "\n",
    "process_random_triples(rand_frac)  "
   ]
  },
  {
   "cell_type": "code",
   "execution_count": 30,
   "id": "1237e773",
   "metadata": {},
   "outputs": [],
   "source": [
    "def train_test_split(dev_frac, test_frac, infile = \"../data/formatted/kelm_random_triples_processed.jsonl\"):\n",
    "    '''Creating Train/Test/Dev splits on the input file'''\n",
    "    rand_count = rand_frac * line_count\n",
    "\n",
    "    with jsonlines.open(infile, 'r') as ifile, jsonlines.open(\"../data/formatted/kelm_train_set.jsonl\", 'w') as train_file, jsonlines.open(\"../data/formatted/kelm_dev_set.jsonl\", 'w') as dev_file, jsonlines.open(\"../data/formatted/kelm_test_set.jsonl\", 'w') as test_file:\n",
    "        for dict_line in ifile:\n",
    "            gen_rand = rng.uniform()\n",
    "            if gen_rand <= 1.0 - (dev_frac + test_frac):\n",
    "                train_file.write(dict_line)\n",
    "            elif 1.0 - (dev_frac + test_frac) < gen_rand <= 1.0 - test_frac:\n",
    "                dev_file.write(dict_line)\n",
    "            else:\n",
    "                test_file.write(dict_line)\n",
    "                \n",
    "train_test_split(0.1, 0.2)"
   ]
  },
  {
   "cell_type": "code",
   "execution_count": 10,
   "id": "d920322d",
   "metadata": {},
   "outputs": [
    {
     "data": {
      "text/plain": [
       "2"
      ]
     },
     "execution_count": 10,
     "metadata": {},
     "output_type": "execute_result"
    }
   ],
   "source": [
    "string = \"I like bananas, bananas\"\n",
    "string.count(\"bananas\")"
   ]
  },
  {
   "cell_type": "code",
   "execution_count": null,
   "id": "c84971e2",
   "metadata": {},
   "outputs": [],
   "source": []
  }
 ],
 "metadata": {
  "kernelspec": {
   "display_name": "Python 3",
   "language": "python",
   "name": "python3"
  },
  "language_info": {
   "codemirror_mode": {
    "name": "ipython",
    "version": 3
   },
   "file_extension": ".py",
   "mimetype": "text/x-python",
   "name": "python",
   "nbconvert_exporter": "python",
   "pygments_lexer": "ipython3",
   "version": "3.8.8"
  }
 },
 "nbformat": 4,
 "nbformat_minor": 5
}
